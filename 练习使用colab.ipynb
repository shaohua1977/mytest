{
  "nbformat": 4,
  "nbformat_minor": 0,
  "metadata": {
    "colab": {
      "name": "练习使用colab.ipynb",
      "version": "0.3.2",
      "provenance": [],
      "toc_visible": true,
      "include_colab_link": true
    },
    "kernelspec": {
      "name": "python3",
      "display_name": "Python 3"
    },
    "accelerator": "TPU"
  },
  "cells": [
    {
      "cell_type": "markdown",
      "metadata": {
        "id": "view-in-github",
        "colab_type": "text"
      },
      "source": [
        "<a href=\"https://colab.research.google.com/github/shaohua1977/mytest/blob/master/%E7%BB%83%E4%B9%A0%E4%BD%BF%E7%94%A8colab.ipynb\" target=\"_parent\"><img src=\"https://colab.research.google.com/assets/colab-badge.svg\" alt=\"Open In Colab\"/></a>"
      ]
    },
    {
      "metadata": {
        "id": "9U4MvURFGzy4",
        "colab_type": "text"
      },
      "cell_type": "markdown",
      "source": [
        "# 3.在 Colab 中读写 Google Drive 文件\n"
      ]
    },
    {
      "metadata": {
        "id": "YS-yUkVmE7LJ",
        "colab_type": "text"
      },
      "cell_type": "markdown",
      "source": [
        "## 对于同一个 notebook，登录操作只需要进行一次，然后才可以进度读写操作。"
      ]
    },
    {
      "metadata": {
        "id": "EOlfwuT8FPxH",
        "colab_type": "code",
        "colab": {}
      },
      "cell_type": "code",
      "source": [
        "# 安装 PyDrive 操作库，该操作每个 notebook 只需要执行一次\n",
        "!pip install -U -q PyDrive\n",
        "from pydrive.auth import GoogleAuth\n",
        "from pydrive.drive import GoogleDrive\n",
        "from google.colab import auth\n",
        "from oauth2client.client import GoogleCredentials\n",
        "\n",
        "# 授权登录，仅第一次的时候会鉴权\n",
        "auth.authenticate_user()\n",
        "gauth = GoogleAuth()\n",
        "gauth.credentials = GoogleCredentials.get_application_default()\n",
        "drive = GoogleDrive(gauth)"
      ],
      "execution_count": 0,
      "outputs": []
    },
    {
      "metadata": {
        "id": "V6JtI6wNFSrl",
        "colab_type": "text"
      },
      "cell_type": "markdown",
      "source": [
        "执行上面这段代码后，会打印以下内容，点击连接进行授权登录，获取到 token 值填写到输入框，按 Enter 继续即可完成登录。"
      ]
    },
    {
      "metadata": {
        "id": "ExPMGZOGFbhl",
        "colab_type": "text"
      },
      "cell_type": "markdown",
      "source": [
        "## 遍历目录"
      ]
    },
    {
      "metadata": {
        "id": "wv3Yxr9rFsYy",
        "colab_type": "code",
        "colab": {
          "base_uri": "https://localhost:8080/",
          "height": 35
        },
        "outputId": "0b9b863f-23bc-4fec-cd4f-206fbad979f1"
      },
      "cell_type": "code",
      "source": [
        "# 列出根目录的所有文件\n",
        "# \"q\" 查询条件教程详见：https://developers.google.com/drive/v2/web/search-parameters\n",
        "\n",
        "file_list = drive.ListFile({'q': \"'1Btca8jG5XhP0hgyOgXS0J10arPgg6sdR' in parents and trashed=false\"}).GetList()\n",
        "for file1 in file_list:\n",
        "  print('title: %s, id: %s, mimeType: %s' % (file1['title'], file1['id'], file1[\"mimeType\"]))"
      ],
      "execution_count": 13,
      "outputs": [
        {
          "output_type": "stream",
          "text": [
            "title: YYY, id: 1A8MHNIEP13m3E50vxou8PqOQbH5QkRaA, mimeType: application/vnd.google-apps.folder\n"
          ],
          "name": "stdout"
        }
      ]
    }
  ]
}